{
 "cells": [
  {
   "cell_type": "markdown",
   "metadata": {},
   "source": [
    "# UKB HF phenotyping case count\n",
    "\n",
    "Last updated:"
   ]
  },
  {
   "cell_type": "code",
   "execution_count": 1,
   "metadata": {},
   "outputs": [
    {
     "data": {
      "text/html": [
       "<time datetime=\"2020-10-16\">2020-10-16</time>"
      ],
      "text/latex": [
       "2020-10-16"
      ],
      "text/markdown": [
       "2020-10-16"
      ],
      "text/plain": [
       "[1] \"2020-10-16\""
      ]
     },
     "metadata": {},
     "output_type": "display_data"
    }
   ],
   "source": [
    "Sys.Date()"
   ]
  },
  {
   "cell_type": "code",
   "execution_count": 2,
   "metadata": {},
   "outputs": [
    {
     "name": "stderr",
     "output_type": "stream",
     "text": [
      "── \u001b[1mAttaching packages\u001b[22m ─────────────────────────────────────── tidyverse 1.3.0 ──\n",
      "\n",
      "\u001b[32m✔\u001b[39m \u001b[34mggplot2\u001b[39m 3.3.2     \u001b[32m✔\u001b[39m \u001b[34mpurrr  \u001b[39m 0.3.4\n",
      "\u001b[32m✔\u001b[39m \u001b[34mtibble \u001b[39m 3.0.3     \u001b[32m✔\u001b[39m \u001b[34mdplyr  \u001b[39m 1.0.0\n",
      "\u001b[32m✔\u001b[39m \u001b[34mtidyr  \u001b[39m 1.1.0     \u001b[32m✔\u001b[39m \u001b[34mstringr\u001b[39m 1.4.0\n",
      "\u001b[32m✔\u001b[39m \u001b[34mreadr  \u001b[39m 1.3.1     \u001b[32m✔\u001b[39m \u001b[34mforcats\u001b[39m 0.5.0\n",
      "\n",
      "── \u001b[1mConflicts\u001b[22m ────────────────────────────────────────── tidyverse_conflicts() ──\n",
      "\u001b[31m✖\u001b[39m \u001b[34mdplyr\u001b[39m::\u001b[32mfilter()\u001b[39m masks \u001b[34mstats\u001b[39m::filter()\n",
      "\u001b[31m✖\u001b[39m \u001b[34mdplyr\u001b[39m::\u001b[32mlag()\u001b[39m    masks \u001b[34mstats\u001b[39m::lag()\n",
      "\n"
     ]
    }
   ],
   "source": [
    "library(tidyverse)"
   ]
  },
  {
   "cell_type": "markdown",
   "metadata": {},
   "source": [
    "## Step 1 Phenotyping"
   ]
  },
  {
   "cell_type": "code",
   "execution_count": 3,
   "metadata": {},
   "outputs": [
    {
     "name": "stderr",
     "output_type": "stream",
     "text": [
      "Parsed with column specification:\n",
      "cols(\n",
      "  eid = \u001b[32mcol_double()\u001b[39m,\n",
      "  MI = \u001b[32mcol_double()\u001b[39m,\n",
      "  LVSD = \u001b[32mcol_double()\u001b[39m,\n",
      "  AF = \u001b[32mcol_double()\u001b[39m,\n",
      "  HF = \u001b[32mcol_double()\u001b[39m,\n",
      "  congHD = \u001b[32mcol_double()\u001b[39m,\n",
      "  valveHD = \u001b[32mcol_double()\u001b[39m,\n",
      "  secondaryHF = \u001b[32mcol_double()\u001b[39m,\n",
      "  lvef = \u001b[32mcol_double()\u001b[39m,\n",
      "  pheno1 = \u001b[31mcol_character()\u001b[39m,\n",
      "  pheno2 = \u001b[31mcol_character()\u001b[39m,\n",
      "  pheno3 = \u001b[31mcol_character()\u001b[39m,\n",
      "  pheno4 = \u001b[31mcol_character()\u001b[39m,\n",
      "  pheno5 = \u001b[31mcol_character()\u001b[39m\n",
      ")\n",
      "\n",
      "`summarise()` regrouping output by 'pheno' (override with `.groups` argument)\n",
      "\n"
     ]
    },
    {
     "data": {
      "text/html": [
       "<table>\n",
       "<caption>A grouped_df: 7 × 3</caption>\n",
       "<thead>\n",
       "\t<tr><th scope=col>pheno</th><th scope=col>no_diagnosis</th><th scope=col>with_diagnosis</th></tr>\n",
       "\t<tr><th scope=col>&lt;chr&gt;</th><th scope=col>&lt;int&gt;</th><th scope=col>&lt;int&gt;</th></tr>\n",
       "</thead>\n",
       "<tbody>\n",
       "\t<tr><td>AF         </td><td>380927</td><td>21090</td></tr>\n",
       "\t<tr><td>congHD     </td><td>400647</td><td> 1370</td></tr>\n",
       "\t<tr><td>HF         </td><td>393392</td><td> 8625</td></tr>\n",
       "\t<tr><td>LVSD       </td><td>396163</td><td> 5854</td></tr>\n",
       "\t<tr><td>MI         </td><td>377250</td><td>24767</td></tr>\n",
       "\t<tr><td>secondaryHF</td><td>374028</td><td>27989</td></tr>\n",
       "\t<tr><td>valveHD    </td><td>398579</td><td> 3438</td></tr>\n",
       "</tbody>\n",
       "</table>\n"
      ],
      "text/latex": [
       "A grouped\\_df: 7 × 3\n",
       "\\begin{tabular}{lll}\n",
       " pheno & no\\_diagnosis & with\\_diagnosis\\\\\n",
       " <chr> & <int> & <int>\\\\\n",
       "\\hline\n",
       "\t AF          & 380927 & 21090\\\\\n",
       "\t congHD      & 400647 &  1370\\\\\n",
       "\t HF          & 393392 &  8625\\\\\n",
       "\t LVSD        & 396163 &  5854\\\\\n",
       "\t MI          & 377250 & 24767\\\\\n",
       "\t secondaryHF & 374028 & 27989\\\\\n",
       "\t valveHD     & 398579 &  3438\\\\\n",
       "\\end{tabular}\n"
      ],
      "text/markdown": [
       "\n",
       "A grouped_df: 7 × 3\n",
       "\n",
       "| pheno &lt;chr&gt; | no_diagnosis &lt;int&gt; | with_diagnosis &lt;int&gt; |\n",
       "|---|---|---|\n",
       "| AF          | 380927 | 21090 |\n",
       "| congHD      | 400647 |  1370 |\n",
       "| HF          | 393392 |  8625 |\n",
       "| LVSD        | 396163 |  5854 |\n",
       "| MI          | 377250 | 24767 |\n",
       "| secondaryHF | 374028 | 27989 |\n",
       "| valveHD     | 398579 |  3438 |\n",
       "\n"
      ],
      "text/plain": [
       "  pheno       no_diagnosis with_diagnosis\n",
       "1 AF          380927       21090         \n",
       "2 congHD      400647        1370         \n",
       "3 HF          393392        8625         \n",
       "4 LVSD        396163        5854         \n",
       "5 MI          377250       24767         \n",
       "6 secondaryHF 374028       27989         \n",
       "7 valveHD     398579        3438         "
      ]
     },
     "metadata": {},
     "output_type": "display_data"
    }
   ],
   "source": [
    "df_pheno_step2 <- read_tsv(\"../results/pheno_step2.tsv\")\n",
    "df_pheno_step2 %>% \n",
    "  pivot_longer(MI:secondaryHF, names_to = \"pheno\", values_to = \"status\") %>% \n",
    "  group_by(pheno, status) %>% \n",
    "  summarise(n = n()) %>% \n",
    "  pivot_wider(names_from = \"status\", values_from = \"n\") %>% \n",
    "  rename(no_diagnosis = `0`, with_diagnosis = `1`)\n"
   ]
  },
  {
   "cell_type": "markdown",
   "metadata": {},
   "source": [
    "## Step 2 Phenotyping"
   ]
  },
  {
   "cell_type": "code",
   "execution_count": 4,
   "metadata": {},
   "outputs": [
    {
     "name": "stderr",
     "output_type": "stream",
     "text": [
      "`summarise()` regrouping output by 'pheno' (override with `.groups` argument)\n",
      "\n"
     ]
    },
    {
     "data": {
      "text/html": [
       "<table>\n",
       "<caption>A grouped_df: 5 × 4</caption>\n",
       "<thead>\n",
       "\t<tr><th scope=col>pheno</th><th scope=col>case</th><th scope=col>control</th><th scope=col>exclude</th></tr>\n",
       "\t<tr><th scope=col>&lt;chr&gt;</th><th scope=col>&lt;dbl&gt;</th><th scope=col>&lt;dbl&gt;</th><th scope=col>&lt;dbl&gt;</th></tr>\n",
       "</thead>\n",
       "<tbody>\n",
       "\t<tr><td>pheno1</td><td>8625</td><td>393392</td><td>    0</td></tr>\n",
       "\t<tr><td>pheno2</td><td>3904</td><td>370124</td><td>27989</td></tr>\n",
       "\t<tr><td>pheno3</td><td> 514</td><td>370124</td><td>31379</td></tr>\n",
       "\t<tr><td>pheno4</td><td>  34</td><td>370124</td><td>31859</td></tr>\n",
       "\t<tr><td>pheno5</td><td>4788</td><td>365850</td><td>31379</td></tr>\n",
       "</tbody>\n",
       "</table>\n"
      ],
      "text/latex": [
       "A grouped\\_df: 5 × 4\n",
       "\\begin{tabular}{llll}\n",
       " pheno & case & control & exclude\\\\\n",
       " <chr> & <dbl> & <dbl> & <dbl>\\\\\n",
       "\\hline\n",
       "\t pheno1 & 8625 & 393392 &     0\\\\\n",
       "\t pheno2 & 3904 & 370124 & 27989\\\\\n",
       "\t pheno3 &  514 & 370124 & 31379\\\\\n",
       "\t pheno4 &   34 & 370124 & 31859\\\\\n",
       "\t pheno5 & 4788 & 365850 & 31379\\\\\n",
       "\\end{tabular}\n"
      ],
      "text/markdown": [
       "\n",
       "A grouped_df: 5 × 4\n",
       "\n",
       "| pheno &lt;chr&gt; | case &lt;dbl&gt; | control &lt;dbl&gt; | exclude &lt;dbl&gt; |\n",
       "|---|---|---|---|\n",
       "| pheno1 | 8625 | 393392 |     0 |\n",
       "| pheno2 | 3904 | 370124 | 27989 |\n",
       "| pheno3 |  514 | 370124 | 31379 |\n",
       "| pheno4 |   34 | 370124 | 31859 |\n",
       "| pheno5 | 4788 | 365850 | 31379 |\n",
       "\n"
      ],
      "text/plain": [
       "  pheno  case control exclude\n",
       "1 pheno1 8625 393392      0  \n",
       "2 pheno2 3904 370124  27989  \n",
       "3 pheno3  514 370124  31379  \n",
       "4 pheno4   34 370124  31859  \n",
       "5 pheno5 4788 365850  31379  "
      ]
     },
     "metadata": {},
     "output_type": "display_data"
    }
   ],
   "source": [
    "df_pheno_step2 %>% \n",
    "  pivot_longer(starts_with(\"pheno\"), names_to = \"pheno\", values_to = \"status\") %>% \n",
    "  group_by(pheno, status) %>% \n",
    "  summarise(n = n()) %>% \n",
    "  pivot_wider(names_from = \"status\", values_from = \"n\") %>% \n",
    "  mutate(across(case:exclude, replace_na, 0))"
   ]
  },
  {
   "cell_type": "code",
   "execution_count": null,
   "metadata": {},
   "outputs": [],
   "source": []
  }
 ],
 "metadata": {
  "kernelspec": {
   "display_name": "R",
   "language": "R",
   "name": "ir"
  },
  "language_info": {
   "codemirror_mode": "r",
   "file_extension": ".r",
   "mimetype": "text/x-r-source",
   "name": "R",
   "pygments_lexer": "r",
   "version": "4.0.2"
  }
 },
 "nbformat": 4,
 "nbformat_minor": 4
}
