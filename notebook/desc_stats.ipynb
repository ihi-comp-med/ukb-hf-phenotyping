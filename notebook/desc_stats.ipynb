{
 "cells": [
  {
   "cell_type": "markdown",
   "metadata": {},
   "source": [
    "# UKB HF phenotyping case count\n",
    "\n",
    "Last updated:"
   ]
  },
  {
   "cell_type": "code",
   "execution_count": 1,
   "metadata": {},
   "outputs": [
    {
     "data": {
      "text/html": [
       "<time datetime=\"2020-10-23\">2020-10-23</time>"
      ],
      "text/latex": [
       "2020-10-23"
      ],
      "text/markdown": [
       "2020-10-23"
      ],
      "text/plain": [
       "[1] \"2020-10-23\""
      ]
     },
     "metadata": {},
     "output_type": "display_data"
    }
   ],
   "source": [
    "Sys.Date()"
   ]
  },
  {
   "cell_type": "code",
   "execution_count": 2,
   "metadata": {},
   "outputs": [
    {
     "name": "stderr",
     "output_type": "stream",
     "text": [
      "── \u001b[1mAttaching packages\u001b[22m ─────────────────────────────────────── tidyverse 1.3.0 ──\n",
      "\n",
      "\u001b[32m✔\u001b[39m \u001b[34mggplot2\u001b[39m 3.3.2     \u001b[32m✔\u001b[39m \u001b[34mpurrr  \u001b[39m 0.3.4\n",
      "\u001b[32m✔\u001b[39m \u001b[34mtibble \u001b[39m 3.0.3     \u001b[32m✔\u001b[39m \u001b[34mdplyr  \u001b[39m 1.0.0\n",
      "\u001b[32m✔\u001b[39m \u001b[34mtidyr  \u001b[39m 1.1.0     \u001b[32m✔\u001b[39m \u001b[34mstringr\u001b[39m 1.4.0\n",
      "\u001b[32m✔\u001b[39m \u001b[34mreadr  \u001b[39m 1.3.1     \u001b[32m✔\u001b[39m \u001b[34mforcats\u001b[39m 0.5.0\n",
      "\n",
      "── \u001b[1mConflicts\u001b[22m ────────────────────────────────────────── tidyverse_conflicts() ──\n",
      "\u001b[31m✖\u001b[39m \u001b[34mdplyr\u001b[39m::\u001b[32mfilter()\u001b[39m masks \u001b[34mstats\u001b[39m::filter()\n",
      "\u001b[31m✖\u001b[39m \u001b[34mdplyr\u001b[39m::\u001b[32mlag()\u001b[39m    masks \u001b[34mstats\u001b[39m::lag()\n",
      "\n"
     ]
    }
   ],
   "source": [
    "library(tidyverse)"
   ]
  },
  {
   "cell_type": "markdown",
   "metadata": {},
   "source": [
    "## Step 1 Phenotyping"
   ]
  },
  {
   "cell_type": "code",
   "execution_count": 3,
   "metadata": {},
   "outputs": [
    {
     "name": "stderr",
     "output_type": "stream",
     "text": [
      "Parsed with column specification:\n",
      "cols(\n",
      "  eid = \u001b[32mcol_double()\u001b[39m,\n",
      "  MI = \u001b[32mcol_double()\u001b[39m,\n",
      "  LVSD = \u001b[32mcol_double()\u001b[39m,\n",
      "  AF = \u001b[32mcol_double()\u001b[39m,\n",
      "  HF = \u001b[32mcol_double()\u001b[39m,\n",
      "  congHD = \u001b[32mcol_double()\u001b[39m,\n",
      "  valveHD = \u001b[32mcol_double()\u001b[39m,\n",
      "  secondaryHF = \u001b[32mcol_double()\u001b[39m,\n",
      "  lvef = \u001b[32mcol_double()\u001b[39m,\n",
      "  pheno1 = \u001b[31mcol_character()\u001b[39m,\n",
      "  pheno2 = \u001b[31mcol_character()\u001b[39m,\n",
      "  pheno3 = \u001b[31mcol_character()\u001b[39m,\n",
      "  pheno4 = \u001b[31mcol_character()\u001b[39m,\n",
      "  pheno5 = \u001b[31mcol_character()\u001b[39m\n",
      ")\n",
      "\n",
      "`summarise()` regrouping output by 'pheno' (override with `.groups` argument)\n",
      "\n"
     ]
    },
    {
     "data": {
      "text/html": [
       "<table>\n",
       "<caption>A grouped_df: 7 × 3</caption>\n",
       "<thead>\n",
       "\t<tr><th scope=col>pheno</th><th scope=col>no_diagnosis</th><th scope=col>with_diagnosis</th></tr>\n",
       "\t<tr><th scope=col>&lt;chr&gt;</th><th scope=col>&lt;int&gt;</th><th scope=col>&lt;int&gt;</th></tr>\n",
       "</thead>\n",
       "<tbody>\n",
       "\t<tr><td>AF         </td><td>392963</td><td>21800</td></tr>\n",
       "\t<tr><td>congHD     </td><td>413345</td><td> 1418</td></tr>\n",
       "\t<tr><td>HF         </td><td>405772</td><td> 8991</td></tr>\n",
       "\t<tr><td>LVSD       </td><td>411542</td><td> 3221</td></tr>\n",
       "\t<tr><td>MI         </td><td>389170</td><td>25593</td></tr>\n",
       "\t<tr><td>secondaryHF</td><td>385838</td><td>28925</td></tr>\n",
       "\t<tr><td>valveHD    </td><td>411205</td><td> 3558</td></tr>\n",
       "</tbody>\n",
       "</table>\n"
      ],
      "text/latex": [
       "A grouped\\_df: 7 × 3\n",
       "\\begin{tabular}{lll}\n",
       " pheno & no\\_diagnosis & with\\_diagnosis\\\\\n",
       " <chr> & <int> & <int>\\\\\n",
       "\\hline\n",
       "\t AF          & 392963 & 21800\\\\\n",
       "\t congHD      & 413345 &  1418\\\\\n",
       "\t HF          & 405772 &  8991\\\\\n",
       "\t LVSD        & 411542 &  3221\\\\\n",
       "\t MI          & 389170 & 25593\\\\\n",
       "\t secondaryHF & 385838 & 28925\\\\\n",
       "\t valveHD     & 411205 &  3558\\\\\n",
       "\\end{tabular}\n"
      ],
      "text/markdown": [
       "\n",
       "A grouped_df: 7 × 3\n",
       "\n",
       "| pheno &lt;chr&gt; | no_diagnosis &lt;int&gt; | with_diagnosis &lt;int&gt; |\n",
       "|---|---|---|\n",
       "| AF          | 392963 | 21800 |\n",
       "| congHD      | 413345 |  1418 |\n",
       "| HF          | 405772 |  8991 |\n",
       "| LVSD        | 411542 |  3221 |\n",
       "| MI          | 389170 | 25593 |\n",
       "| secondaryHF | 385838 | 28925 |\n",
       "| valveHD     | 411205 |  3558 |\n",
       "\n"
      ],
      "text/plain": [
       "  pheno       no_diagnosis with_diagnosis\n",
       "1 AF          392963       21800         \n",
       "2 congHD      413345        1418         \n",
       "3 HF          405772        8991         \n",
       "4 LVSD        411542        3221         \n",
       "5 MI          389170       25593         \n",
       "6 secondaryHF 385838       28925         \n",
       "7 valveHD     411205        3558         "
      ]
     },
     "metadata": {},
     "output_type": "display_data"
    }
   ],
   "source": [
    "df_pheno_step2 <- read_tsv(\"../results/ukb_hf_pheno_derived.txt\")\n",
    "df_pheno_step2 %>% \n",
    "  pivot_longer(MI:secondaryHF, names_to = \"pheno\", values_to = \"status\") %>% \n",
    "  group_by(pheno, status) %>% \n",
    "  summarise(n = n()) %>% \n",
    "  pivot_wider(names_from = \"status\", values_from = \"n\") %>% \n",
    "  rename(no_diagnosis = `0`, with_diagnosis = `1`)\n"
   ]
  },
  {
   "cell_type": "markdown",
   "metadata": {},
   "source": [
    "## Step 2 Phenotyping"
   ]
  },
  {
   "cell_type": "code",
   "execution_count": 5,
   "metadata": {},
   "outputs": [
    {
     "name": "stderr",
     "output_type": "stream",
     "text": [
      "`summarise()` regrouping output by 'pheno' (override with `.groups` argument)\n",
      "\n"
     ]
    },
    {
     "data": {
      "text/html": [
       "<table>\n",
       "<caption>A grouped_df: 5 × 4</caption>\n",
       "<thead>\n",
       "\t<tr><th scope=col>pheno</th><th scope=col>case</th><th scope=col>control</th><th scope=col>exclude</th></tr>\n",
       "\t<tr><th scope=col>&lt;chr&gt;</th><th scope=col>&lt;dbl&gt;</th><th scope=col>&lt;dbl&gt;</th><th scope=col>&lt;dbl&gt;</th></tr>\n",
       "</thead>\n",
       "<tbody>\n",
       "\t<tr><td>pheno1</td><td>8991</td><td>405772</td><td>    0</td></tr>\n",
       "\t<tr><td>pheno2</td><td>4065</td><td>381773</td><td>28925</td></tr>\n",
       "\t<tr><td>pheno3</td><td> 533</td><td>381773</td><td>32457</td></tr>\n",
       "\t<tr><td>pheno4</td><td>  40</td><td>381773</td><td>32950</td></tr>\n",
       "\t<tr><td>pheno5</td><td>2294</td><td>380012</td><td>32457</td></tr>\n",
       "</tbody>\n",
       "</table>\n"
      ],
      "text/latex": [
       "A grouped\\_df: 5 × 4\n",
       "\\begin{tabular}{llll}\n",
       " pheno & case & control & exclude\\\\\n",
       " <chr> & <dbl> & <dbl> & <dbl>\\\\\n",
       "\\hline\n",
       "\t pheno1 & 8991 & 405772 &     0\\\\\n",
       "\t pheno2 & 4065 & 381773 & 28925\\\\\n",
       "\t pheno3 &  533 & 381773 & 32457\\\\\n",
       "\t pheno4 &   40 & 381773 & 32950\\\\\n",
       "\t pheno5 & 2294 & 380012 & 32457\\\\\n",
       "\\end{tabular}\n"
      ],
      "text/markdown": [
       "\n",
       "A grouped_df: 5 × 4\n",
       "\n",
       "| pheno &lt;chr&gt; | case &lt;dbl&gt; | control &lt;dbl&gt; | exclude &lt;dbl&gt; |\n",
       "|---|---|---|---|\n",
       "| pheno1 | 8991 | 405772 |     0 |\n",
       "| pheno2 | 4065 | 381773 | 28925 |\n",
       "| pheno3 |  533 | 381773 | 32457 |\n",
       "| pheno4 |   40 | 381773 | 32950 |\n",
       "| pheno5 | 2294 | 380012 | 32457 |\n",
       "\n"
      ],
      "text/plain": [
       "  pheno  case control exclude\n",
       "1 pheno1 8991 405772      0  \n",
       "2 pheno2 4065 381773  28925  \n",
       "3 pheno3  533 381773  32457  \n",
       "4 pheno4   40 381773  32950  \n",
       "5 pheno5 2294 380012  32457  "
      ]
     },
     "metadata": {},
     "output_type": "display_data"
    }
   ],
   "source": [
    "df_pheno_step2 %>% \n",
    "  pivot_longer(starts_with(\"pheno\"), names_to = \"pheno\", values_to = \"status\") %>% \n",
    "  group_by(pheno, status) %>% \n",
    "  summarise(n = n()) %>% \n",
    "  pivot_wider(names_from = \"status\", values_from = \"n\") %>% \n",
    "  mutate(across(case:exclude, replace_na, 0))"
   ]
  }
 ],
 "metadata": {
  "kernelspec": {
   "display_name": "R",
   "language": "R",
   "name": "ir"
  },
  "language_info": {
   "codemirror_mode": "r",
   "file_extension": ".r",
   "mimetype": "text/x-r-source",
   "name": "R",
   "pygments_lexer": "r",
   "version": "4.0.2"
  }
 },
 "nbformat": 4,
 "nbformat_minor": 4
}
